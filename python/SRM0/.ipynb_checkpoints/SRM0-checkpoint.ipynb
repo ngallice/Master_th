{
 "cells": [
  {
   "cell_type": "code",
   "execution_count": 1,
   "metadata": {},
   "outputs": [],
   "source": [
    "import numpy as np\n",
    "\n",
    "import pandas as pd\n",
    "from pandas.plotting import scatter_matrix\n",
    "\n",
    "from scipy import stats\n",
    "import scipy as sc\n",
    "\n",
    "import matplotlib.pyplot as plt\n",
    "import seaborn as sns\n",
    "\n",
    "from random import randrange\n",
    "\n",
    "from cycler import cycler\n",
    "\n",
    "\n",
    "import re\n",
    "\n",
    "import random\n",
    "import pickle,pprint\n",
    "\n",
    "from scipy.stats import gamma\n",
    "from scipy.optimize import minimize\n",
    "\n",
    "from matplotlib import rc\n",
    "from mpl_toolkits.axes_grid1 import make_axes_locatable\n",
    "\n",
    "from scipy.integrate import odeint\n",
    "%matplotlib inline"
   ]
  },
  {
   "cell_type": "code",
   "execution_count": 3,
   "metadata": {},
   "outputs": [],
   "source": [
    "\n",
    "rc('text', usetex=True)\n",
    "\n",
    "# this is just to have figure with large fontsize\n",
    "params = {'legend.fontsize': 'xx-large',\n",
    "          'figure.figsize': (8, 5),\n",
    "         'axes.labelsize': 'xx-large',\n",
    "         'axes.titlesize':'xx-large',\n",
    "         'xtick.labelsize':'xx-large',\n",
    "         'ytick.labelsize':'xx-large'}\n",
    "plt.rcParams.update(params)\n",
    "\n",
    "\n",
    "plt.rc('font', weight='bold')\n",
    "plt.rc('xtick.major', size=5, pad=7)\n",
    "plt.rc('xtick', labelsize=20)\n",
    "plt.rc('ytick', labelsize=20)\n",
    "plt.rc('axes', labelsize=20)\n",
    "plt.rc('axes', titlesize=20)\n"
   ]
  },
  {
   "cell_type": "code",
   "execution_count": null,
   "metadata": {},
   "outputs": [],
   "source": []
  },
  {
   "cell_type": "code",
   "execution_count": null,
   "metadata": {},
   "outputs": [],
   "source": []
  },
  {
   "cell_type": "code",
   "execution_count": 26,
   "metadata": {},
   "outputs": [],
   "source": [
    "def f(t,tau_0,beta,I):\n",
    "    return 1/tau_0*np.exp(beta*(I-np.exp(-t/tau_0)))"
   ]
  },
  {
   "cell_type": "code",
   "execution_count": 57,
   "metadata": {},
   "outputs": [],
   "source": [
    "tau_0=10\n",
    "beta=3\n",
    "I=2\n",
    "dt=0.1\n",
    "t_max=200\n",
    "t_vec=np.linspace(1,t_max,int(t_max/dt))"
   ]
  },
  {
   "cell_type": "code",
   "execution_count": 58,
   "metadata": {},
   "outputs": [],
   "source": [
    "f_vec=[f(t,tau_0,beta,I) for t in t_vec]\n",
    "\n",
    "def int_f(t,tau_0,beta,I,dt):\n",
    "    N=int(t/dt)\n",
    "    sum_=0\n",
    "    for i in range(N):\n",
    "        sum_+=f(i*dt,tau_0,beta,I)*dt\n",
    "    return sum_\n",
    "        \n",
    "P_vec=[f(t,tau_0,beta,I)*np.exp(-int_f(t,tau_0,beta,I,dt)) for t in t_vec]"
   ]
  },
  {
   "cell_type": "code",
   "execution_count": 61,
   "metadata": {},
   "outputs": [
    {
     "data": {
      "text/plain": [
       "[<matplotlib.lines.Line2D at 0x11c9546a0>]"
      ]
     },
     "execution_count": 61,
     "metadata": {},
     "output_type": "execute_result"
    },
    {
     "data": {
      "image/png": "[encoded data removed]",
      "text/plain": [
       "<matplotlib.figure.Figure at 0x11c7635f8>"
      ]
     },
     "metadata": {},
     "output_type": "display_data"
    }
   ],
   "source": [
    "plt.plot(t_vec,P_vec)"
   ]
  },
  {
   "cell_type": "code",
   "execution_count": 60,
   "metadata": {},
   "outputs": [
    {
     "data": {
      "text/plain": [
       "[<matplotlib.lines.Line2D at 0x11c83c3c8>]"
      ]
     },
     "execution_count": 60,
     "metadata": {},
     "output_type": "execute_result"
    },
    {
     "data": {
      "image/png": "[encoded data removed]",
      "text/plain": [
       "<matplotlib.figure.Figure at 0x11c733198>"
      ]
     },
     "metadata": {},
     "output_type": "display_data"
    }
   ],
   "source": [
    "plt.plot(t_vec,f_vec)"
   ]
  },
  {
   "cell_type": "code",
   "execution_count": 63,
   "metadata": {},
   "outputs": [],
   "source": [
    "def S(t,gamma,beta):\n",
    "    return 1-sc.special.gammainc(gamma,beta*t)\n",
    "\n",
    "def S_sum(t,gamma,beta):\n",
    "    summ=0\n",
    "    for i in range(gamma):\n",
    "        summ+=(beta*t)**i/math.factorial(i)\n",
    "\n",
    "    return summ*np.exp(-beta*t)\n",
    "\n",
    "def P(t,gamma,beta):\n",
    "    return (beta**gamma)*(t**(gamma-1))*np.exp(-beta*t)/sc.special.gamma(gamma)\n",
    "\n",
    "#def RHO(t,a,b):\n",
    "#    return P(t,a,b)/S(t,a,b)\n",
    "\n",
    "def RHO(t,gamma,beta):\n",
    "    summ=0\n",
    "    for i in range(gamma):\n",
    "        summ+=(beta*t)**i/math.factorial(i)\n",
    "    \n",
    "    return beta**gamma*t**(gamma-1)/(summ*math.factorial(gamma-1))\n"
   ]
  },
  {
   "cell_type": "code",
   "execution_count": 66,
   "metadata": {},
   "outputs": [
    {
     "data": {
      "text/plain": [
       "<matplotlib.legend.Legend at 0x11cc19e80>"
      ]
     },
     "execution_count": 66,
     "metadata": {},
     "output_type": "execute_result"
    },
    {
     "data": {
      "image/png": "[encoded data removed]",
      "text/plain": [
       "<matplotlib.figure.Figure at 0x11c3efc88>"
      ]
     },
     "metadata": {},
     "output_type": "display_data"
    }
   ],
   "source": [
    "beta1=0.5\n",
    "beta2=0.5\n",
    "beta3=0.5\n",
    "gamma1=10\n",
    "gamma2=20\n",
    "gamma3=30\n",
    "dt=0.1\n",
    "t_max=200\n",
    "N_sim=int(t_max/dt)\n",
    "tsim=[i*dt for i in range(N_sim)]\n",
    "\n",
    "P_vec_10=[P(t,gamma1,beta1/gamma1) for t in tsim]\n",
    "P_vec_20=[P(t,gamma2,beta2/gamma2) for t in tsim]\n",
    "P_vec_40=[P(t,gamma3,beta3/gamma3) for t in tsim]\n",
    "\n",
    "plt.plot(tsim,P_vec_10,label='10')\n",
    "plt.plot(tsim,P_vec_20,label='20')\n",
    "plt.plot(tsim,P_vec_40,label='40')\n",
    "plt.ylabel(r'$P(\\tau)$')\n",
    "plt.xlabel(r'$\\tau$ [ms]')\n",
    "plt.legend()"
   ]
  },
  {
   "cell_type": "code",
   "execution_count": null,
   "metadata": {},
   "outputs": [],
   "source": []
  }
 ],
 "metadata": {
  "kernelspec": {
   "display_name": "Python [default]",
   "language": "python",
   "name": "python3"
  },
  "language_info": {
   "codemirror_mode": {
    "name": "ipython",
    "version": 3
   },
   "file_extension": ".py",
   "mimetype": "text/x-python",
   "name": "python",
   "nbconvert_exporter": "python",
   "pygments_lexer": "ipython3",
   "version": "3.6.1"
  }
 },
 "nbformat": 4,
 "nbformat_minor": 2
}
