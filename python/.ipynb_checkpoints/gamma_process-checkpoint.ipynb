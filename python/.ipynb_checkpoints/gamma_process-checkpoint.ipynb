{
 "cells": [
  {
   "cell_type": "code",
   "execution_count": 43,
   "metadata": {
    "collapsed": true
   },
   "outputs": [],
   "source": [
    "import numpy as np\n",
    "\n",
    "import pandas as pd\n",
    "from pandas.plotting import scatter_matrix\n",
    "\n",
    "from scipy import stats\n",
    "import scipy as sc\n",
    "\n",
    "import matplotlib.pyplot as plt\n",
    "import seaborn as sns\n",
    "\n",
    "from random import randrange\n",
    "\n",
    "import re\n",
    "\n",
    "import random\n",
    "import pickle,pprint\n",
    "\n",
    "from scipy.stats import gamma\n",
    "\n",
    "%matplotlib inline"
   ]
  },
  {
   "cell_type": "code",
   "execution_count": 26,
   "metadata": {
    "collapsed": true
   },
   "outputs": [],
   "source": [
    "# this is just to have figure with large fontsize\n",
    "params = {'legend.fontsize': 'xx-large',\n",
    "          'figure.figsize': (8, 5),\n",
    "         'axes.labelsize': 'xx-large',\n",
    "         'axes.titlesize':'xx-large',\n",
    "         'xtick.labelsize':'xx-large',\n",
    "         'ytick.labelsize':'xx-large'}\n",
    "plt.rcParams.update(params)"
   ]
  },
  {
   "cell_type": "code",
   "execution_count": null,
   "metadata": {
    "collapsed": true
   },
   "outputs": [],
   "source": []
  },
  {
   "cell_type": "code",
   "execution_count": 27,
   "metadata": {
    "collapsed": true
   },
   "outputs": [],
   "source": [
    "def fact(x) : \n",
    "    x=int(x)\n",
    "    result = 1 \n",
    "    while (x>1) : \n",
    "        result=result*x \n",
    "        x=x-1 \n",
    "    return result"
   ]
  },
  {
   "cell_type": "code",
   "execution_count": 31,
   "metadata": {
    "collapsed": true
   },
   "outputs": [],
   "source": [
    "b=1\n",
    "a=3\n",
    "\n",
    "\n"
   ]
  },
  {
   "cell_type": "markdown",
   "metadata": {},
   "source": [
    "theoritical eigenvalue $\\lambda_n=\\beta(exp(\\frac{2\\pi i}{\\gamma}n)-1)$"
   ]
  },
  {
   "cell_type": "code",
   "execution_count": 29,
   "metadata": {
    "collapsed": true
   },
   "outputs": [],
   "source": [
    "th_eigv=[]\n",
    "for n in range(a):\n",
    "    th_eigv.append(b*(np.exp(2*np.pi*1j*n/a)-1))"
   ]
  },
  {
   "cell_type": "markdown",
   "metadata": {},
   "source": [
    "first try"
   ]
  },
  {
   "cell_type": "code",
   "execution_count": 12,
   "metadata": {
    "collapsed": true
   },
   "outputs": [],
   "source": [
    "fact_a=fact(a-1)\n",
    "\n",
    "def gamma_(x, a,b):\n",
    "    return x**(a-1) * np.exp(-b*x)*(b**a)/fact_a\n",
    "\n",
    "def num_gamma(t):\n",
    "    \n",
    "    x=1-sc.integrate.quad(gamma_, 0,t, args=(a,b))[0]\n",
    "    if x==0:\n",
    "        return 0.0000000000001\n",
    "    else:\n",
    "        return x"
   ]
  },
  {
   "cell_type": "markdown",
   "metadata": {},
   "source": [
    "2nd try"
   ]
  },
  {
   "cell_type": "code",
   "execution_count": 144,
   "metadata": {
    "collapsed": true
   },
   "outputs": [],
   "source": [
    "t_window=100\n",
    "dt=0.1\n",
    "N=int(t_window/dt)\n",
    "\n",
    "time_=[i*dt for i in range(N+1)]"
   ]
  },
  {
   "cell_type": "code",
   "execution_count": 145,
   "metadata": {},
   "outputs": [],
   "source": [
    "gamma_vec=np.zeros((N+1,1))\n",
    "for n in range(N+1):\n",
    "    t=n*dt\n",
    "    gamma_vec[n]=gamma.pdf(t, a,scale = 1/b)\n",
    "\n",
    "\n"
   ]
  },
  {
   "cell_type": "code",
   "execution_count": 146,
   "metadata": {},
   "outputs": [],
   "source": [
    "int_gamma=np.zeros((N+1,1))\n",
    "for n in range(N):\n",
    "    int_gamma[n+1]=int_gamma[n]+(gamma_vec[n]+gamma_vec[n+1])/2*dt\n",
    "int_gamma=int_gamma[1:]\n",
    "    \n",
    "num_gamma=1-int_gamma"
   ]
  },
  {
   "cell_type": "code",
   "execution_count": 173,
   "metadata": {},
   "outputs": [],
   "source": [
    "\n",
    "\n",
    "rho=np.zeros((N,1))\n",
    "\n",
    "for r in range(N):\n",
    "    rho[r] =  gamma_vec[r]/num_gamma[r]\n",
    "    \n",
    "time_=[i*dt for i in range(N)]"
   ]
  },
  {
   "cell_type": "code",
   "execution_count": null,
   "metadata": {
    "collapsed": true
   },
   "outputs": [],
   "source": []
  },
  {
   "cell_type": "code",
   "execution_count": 174,
   "metadata": {},
   "outputs": [
    {
     "data": {
      "text/plain": [
       "(0, 3)"
      ]
     },
     "execution_count": 174,
     "metadata": {},
     "output_type": "execute_result"
    },
    {
     "data": {
      "image/png": "[encoded data removed]",
      "text/plain": [
       "<matplotlib.figure.Figure at 0x12e0bd588>"
      ]
     },
     "metadata": {},
     "output_type": "display_data"
    }
   ],
   "source": [
    "rho2=np.zeros(rho.shape)\n",
    "for i in range(len(rho)):\n",
    "    if i<60:\n",
    "        rho2[i]=rho[i]\n",
    "    else:\n",
    "        rho2[i]=1.99#+0.006*i\n",
    "plt.plot(time_,rho2)\n",
    "plt.xlim(0,10)\n",
    "plt.ylim(0,3)"
   ]
  },
  {
   "cell_type": "code",
   "execution_count": 175,
   "metadata": {},
   "outputs": [],
   "source": [
    "\n",
    "rho=rho2"
   ]
  },
  {
   "cell_type": "code",
   "execution_count": 176,
   "metadata": {
    "collapsed": true
   },
   "outputs": [],
   "source": [
    "A=np.zeros((N+1,N+1))\n",
    "for i in range(N-1):\n",
    "    A[0,i+1]=rho[i]*dt\n",
    "    A[i+1,i+1]=-1-rho[i]*dt\n",
    "    A[i+2,i+1]=1\n",
    "    \n",
    "A[0,0]=-1\n",
    "A[1,0]=1\n",
    "A[0,N]=1\n",
    "A[N,N]=-1\n",
    "\n",
    "eigv, v = np.linalg.eig(A)\n",
    "eigv=eigv/dt"
   ]
  },
  {
   "cell_type": "code",
   "execution_count": 177,
   "metadata": {},
   "outputs": [
    {
     "data": {
      "text/plain": [
       "<matplotlib.collections.PathCollection at 0x11e547b38>"
      ]
     },
     "execution_count": 177,
     "metadata": {},
     "output_type": "execute_result"
    },
    {
     "data": {
      "image/png": "[encoded data removed]",
      "text/plain": [
       "<matplotlib.figure.Figure at 0x12d580e80>"
      ]
     },
     "metadata": {},
     "output_type": "display_data"
    }
   ],
   "source": [
    "plt.figure(figsize=(8,6))\n",
    "for e in th_eigv:\n",
    "    plt.scatter(e.real,e.imag,s=30,marker='o',c='r') \n",
    "plt.scatter(eigv.real,eigv.imag,s=20,marker='*',c='k')  \n"
   ]
  },
  {
   "cell_type": "code",
   "execution_count": null,
   "metadata": {
    "collapsed": true
   },
   "outputs": [],
   "source": []
  }
 ],
 "metadata": {
  "kernelspec": {
   "display_name": "Python [default]",
   "language": "python",
   "name": "python3"
  },
  "language_info": {
   "codemirror_mode": {
    "name": "ipython",
    "version": 3
   },
   "file_extension": ".py",
   "mimetype": "text/x-python",
   "name": "python",
   "nbconvert_exporter": "python",
   "pygments_lexer": "ipython3",
   "version": "3.5.4"
  }
 },
 "nbformat": 4,
 "nbformat_minor": 2
}
